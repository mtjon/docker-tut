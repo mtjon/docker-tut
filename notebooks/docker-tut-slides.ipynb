{
 "cells": [
  {
   "cell_type": "markdown",
   "metadata": {
    "slideshow": {
     "slide_type": "slide"
    }
   },
   "source": [
    "# Docker-tut\n",
    "Martin Tjon  \n",
    "KPN ICT Consulting, 30/03/2018"
   ]
  },
  {
   "cell_type": "markdown",
   "metadata": {
    "slideshow": {
     "slide_type": "slide"
    }
   },
   "source": [
    "# Contents\n",
    "1. Docker Overview\n",
    "    1. Why use Docker?\n",
    "    1. Key components\n",
    "1. Dockerfiles\n",
    "1. Docker-compose"
   ]
  },
  {
   "cell_type": "markdown",
   "metadata": {
    "slideshow": {
     "slide_type": "slide"
    }
   },
   "source": [
    "# Docker overview\n",
    "\n",
    "- Why use Docker?\n",
    "- Key components"
   ]
  },
  {
   "cell_type": "markdown",
   "metadata": {
    "slideshow": {
     "slide_type": "subslide"
    }
   },
   "source": [
    "## Why use Docker?\n",
    "\n",
    "- Separate infra from application"
   ]
  },
  {
   "cell_type": "markdown",
   "metadata": {
    "slideshow": {
     "slide_type": "subslide"
    }
   },
   "source": [
    "## Key components\n",
    "- Docker engine\n",
    "- Images, containers\n",
    "- `Dockerfiles` and `docker-compose.yml`'s\n",
    "- Registries\n"
   ]
  },
  {
   "cell_type": "markdown",
   "metadata": {
    "slideshow": {
     "slide_type": "subslide"
    }
   },
   "source": [
    "###  Docker engine\n",
    "- This *is* Docker; check out using `docker version` or `docker info`\n",
    "- Runs directly on Linux host\n",
    "- For Windows & Mac this inside a mini-VM (Moby Linux)"
   ]
  },
  {
   "cell_type": "markdown",
   "metadata": {
    "slideshow": {
     "slide_type": "subslide"
    }
   },
   "source": [
    "### Images and Containers\n",
    "- Images are molds\n",
    "- Containers are castings"
   ]
  },
  {
   "cell_type": "markdown",
   "metadata": {
    "slideshow": {
     "slide_type": "notes"
    }
   },
   "source": [
    "- Containers should be considered immutable; change your image definition and replace\n",
    "- Pets vs. cattle analogy; ephemeral by nature\n",
    "\n",
    "- A (Docker) container is nothing like a VM, it's just a process. It's available on the host directly. ([link][just-a-process]; behind paywall)\n",
    "\n",
    "[just-a-process]: https://www.udemy.com/docker-mastery/learn/v4/t/lecture/6760142?start=0"
   ]
  },
  {
   "cell_type": "markdown",
   "metadata": {
    "slideshow": {
     "slide_type": "subslide"
    }
   },
   "source": [
    "### Dockerfiles and docker-compose\n",
    "- Dockerfiles are the blueprints for images\n",
    "- `docker-compose.yml`-files define a Docker setup"
   ]
  },
  {
   "cell_type": "markdown",
   "metadata": {
    "slideshow": {
     "slide_type": "subslide"
    }
   },
   "source": [
    "### Registries\n",
    "- Repository for Docker images (*a* Git)\n",
    "- Default: Docker hub (*the* GitHub)\n",
    "- Private repositories"
   ]
  },
  {
   "cell_type": "markdown",
   "metadata": {
    "slideshow": {
     "slide_type": "notes"
    }
   },
   "source": [
    "1. for demo: make sure we don't have nginx on the machine\n",
    "1. list containers:\n",
    "    - nothing to see\n",
    "1. start nginx, show browser:\n",
    "1. list containers:\n",
    "    - there it is; notice the name?\n",
    "1. stop container, show browser\n",
    "1. list containers\n",
    "    - where'd it go?\n",
    "1. list *all* containers:\n",
    "    - ah, it's still there.\n",
    "1. remove container, list again\n",
    "    - truly gone.\n",
    "1. start another nginx container\n",
    "1. list containers:\n",
    "    - notice the different name? Can be chosen using `--name`\n",
    "1. try to remove container:\n",
    "    - a-ha! ERROR!\n",
    "    - force it.\n",
    "    - SUCCES!"
   ]
  },
  {
   "cell_type": "markdown",
   "metadata": {
    "slideshow": {
     "slide_type": "slide"
    }
   },
   "source": [
    "# Dockerfiles\n",
    "- Blueprint for building images"
   ]
  },
  {
   "cell_type": "markdown",
   "metadata": {
    "slideshow": {
     "slide_type": "subslide"
    }
   },
   "source": [
    "```\n",
    "FROM jupyter/datascience-notebook:hash\n",
    "\n",
    "LABEL maintainer='Martin Tjon <martin.tjon@kpn.com>'\n",
    "\n",
    "RUN command && \\\n",
    "    another command\n",
    "\n",
    "EXPOSE <port 1> <port 2> ... <port n>\n",
    "\n",
    "CMD ['cmd', 'arg1', 'arg2']\n",
    "```"
   ]
  },
  {
   "cell_type": "markdown",
   "metadata": {
    "slideshow": {
     "slide_type": "slide"
    }
   },
   "source": [
    "# Docker-compose\n",
    "- recipe for docker commands\n",
    "- YAML-syntax; *use spaces, not tabs!*\n",
    "- dev-tool"
   ]
  },
  {
   "cell_type": "markdown",
   "metadata": {
    "slideshow": {
     "slide_type": "subslide"
    }
   },
   "source": [
    "## Commands\n",
    "- `docker-compose up`\n",
    "- `docker-compose down`\n",
    "- `docker-compose down -v`"
   ]
  },
  {
   "cell_type": "markdown",
   "metadata": {
    "slideshow": {
     "slide_type": "subslide"
    }
   },
   "source": [
    "```\n",
    "version: <version number>\n",
    "services:\n",
    "  first-service:\n",
    "    build:\n",
    "      context: <directory to build from>\n",
    "      dockerfile: <name of dockerfile to build>\n",
    "    image: <existing image if available>\n",
    "    ports:\n",
    "      - \"<host-port>:<container-port>\"\n",
    "    volumes:\n",
    "      - <volume>:<mountpoint in container>\n",
    "    working-dir: <directory in container>\n",
    "  second-service:\n",
    "    ...\n",
    "\n",
    "volumes:\n",
    "  docker-volume:\n",
    "```"
   ]
  },
  {
   "cell_type": "markdown",
   "metadata": {
    "slideshow": {
     "slide_type": "notes"
    }
   },
   "source": [
    "Example source code"
   ]
  }
 ],
 "metadata": {
  "celltoolbar": "Slideshow",
  "kernelspec": {
   "display_name": "Python 3",
   "language": "python",
   "name": "python3"
  },
  "language_info": {
   "codemirror_mode": {
    "name": "ipython",
    "version": 3
   },
   "file_extension": ".py",
   "mimetype": "text/x-python",
   "name": "python",
   "nbconvert_exporter": "python",
   "pygments_lexer": "ipython3"
  }
 },
 "nbformat": 4,
 "nbformat_minor": 2
}
